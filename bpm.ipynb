{
  "nbformat": 4,
  "nbformat_minor": 0,
  "metadata": {
    "colab": {
      "provenance": [],
      "gpuType": "T4"
    },
    "kernelspec": {
      "name": "python3",
      "display_name": "Python 3"
    },
    "language_info": {
      "name": "python"
    },
    "accelerator": "GPU"
  },
  "cells": [
    {
      "cell_type": "code",
      "source": [
        "from google.colab import drive\n",
        "drive.mount('/content/drive')\n"
      ],
      "metadata": {
        "colab": {
          "base_uri": "https://localhost:8080/"
        },
        "id": "_VLS7f1YbHlT",
        "outputId": "462d7dbc-8d13-4513-a053-d4ddf6605037"
      },
      "execution_count": null,
      "outputs": [
        {
          "output_type": "stream",
          "name": "stdout",
          "text": [
            "Mounted at /content/drive\n"
          ]
        }
      ]
    },
    {
      "cell_type": "code",
      "execution_count": null,
      "metadata": {
        "colab": {
          "base_uri": "https://localhost:8080/"
        },
        "id": "nxSdXNTvbGGB",
        "outputId": "1d749810-0d6e-4fd2-961f-1f231b0f0f0a"
      },
      "outputs": [
        {
          "output_type": "stream",
          "name": "stdout",
          "text": [
            "🔍 Current Runtime: GPU\n",
            "⏱️ Time taken for BPM classification and feeling assignment: 1.025545 seconds\n",
            "                    title         artist  beats.per.minute tempo_class  \\\n",
            "0         Blinding Lights     The Weeknd               171        fast   \n",
            "1        Watermelon Sugar   Harry Styles                95        slow   \n",
            "2  Mood (feat. iann dior)       24kGoldn                91        slow   \n",
            "3       Someone You Loved  Lewis Capaldi               110        fast   \n",
            "4                 Perfect     Ed Sheeran                95        slow   \n",
            "\n",
            "   energy  valance            feeling  \n",
            "0    73.0     33.0      intense, edgy  \n",
            "1    82.0     56.0  reflective, moody  \n",
            "2    72.0     73.0  reflective, moody  \n",
            "3    41.0     45.0  reflective, moody  \n",
            "4    45.0     17.0  reflective, moody  \n"
          ]
        }
      ],
      "source": [
        "import pandas as pd\n",
        "import time\n",
        "import tensorflow as tf\n",
        "\n",
        "# Measure the start time before the process\n",
        "start_time = time.perf_counter()\n",
        "\n",
        "# Load the dataset\n",
        "file_path = '/content/drive/MyDrive/bpm flo/merged_music_dataset(in).csv'\n",
        "df = pd.read_csv(file_path)\n",
        "\n",
        "# Step 1: Classify songs by tempo\n",
        "df['tempo_class'] = df['beats.per.minute'].apply(lambda bpm: 'fast' if bpm >= 100 else 'slow')\n",
        "\n",
        "# Step 2: Assign emotional feeling labels based on tempo, valance, and energy\n",
        "def classify_feeling(row):\n",
        "    valance = row['valance']\n",
        "    energy = row['energy']\n",
        "    tempo = row['tempo_class']\n",
        "\n",
        "    if tempo == 'fast':\n",
        "        if valance >= 60 and energy >= 60:\n",
        "            return 'fun, energetic'\n",
        "        elif valance < 60 and energy >= 60:\n",
        "            return 'intense, edgy'\n",
        "        else:\n",
        "            return 'reflective, moody'\n",
        "    else:  # slow\n",
        "        if valance < 40 and energy < 40:\n",
        "            return 'sad, mellow'\n",
        "        elif valance >= 60 and 40 <= energy < 60:\n",
        "            return 'romantic, chill'\n",
        "        else:\n",
        "            return 'reflective, moody'\n",
        "\n",
        "df['feeling'] = df.apply(classify_feeling, axis=1)\n",
        "\n",
        "# Measure the end time after the process\n",
        "end_time = time.perf_counter()\n",
        "\n",
        "# Calculate the elapsed time\n",
        "elapsed_time = end_time - start_time\n",
        "\n",
        "# Print out the runtime type and time taken\n",
        "runtime_type = \"GPU\" if tf.config.list_physical_devices('GPU') else \"CPU\"\n",
        "print(f\"🔍 Current Runtime: {runtime_type}\")\n",
        "print(f\"⏱️ Time taken for BPM classification and feeling assignment: {elapsed_time:.6f} seconds\")\n",
        "\n",
        "# Preview the result\n",
        "print(df[['title', 'artist', 'beats.per.minute', 'tempo_class', 'energy', 'valance', 'feeling']].head())\n"
      ]
    },
    {
      "cell_type": "code",
      "source": [
        "!pip install streamlit pyngrok\n"
      ],
      "metadata": {
        "colab": {
          "base_uri": "https://localhost:8080/"
        },
        "collapsed": true,
        "id": "31gUexcUb_Wo",
        "outputId": "52c00fd3-0c31-4787-c46c-067e30132a64"
      },
      "execution_count": null,
      "outputs": [
        {
          "output_type": "stream",
          "name": "stdout",
          "text": [
            "Collecting streamlit\n",
            "  Downloading streamlit-1.45.0-py3-none-any.whl.metadata (8.9 kB)\n",
            "Collecting pyngrok\n",
            "  Downloading pyngrok-7.2.5-py3-none-any.whl.metadata (8.9 kB)\n",
            "Requirement already satisfied: altair<6,>=4.0 in /usr/local/lib/python3.11/dist-packages (from streamlit) (5.5.0)\n",
            "Requirement already satisfied: blinker<2,>=1.5.0 in /usr/local/lib/python3.11/dist-packages (from streamlit) (1.9.0)\n",
            "Requirement already satisfied: cachetools<6,>=4.0 in /usr/local/lib/python3.11/dist-packages (from streamlit) (5.5.2)\n",
            "Requirement already satisfied: click<9,>=7.0 in /usr/local/lib/python3.11/dist-packages (from streamlit) (8.1.8)\n",
            "Requirement already satisfied: numpy<3,>=1.23 in /usr/local/lib/python3.11/dist-packages (from streamlit) (2.0.2)\n",
            "Requirement already satisfied: packaging<25,>=20 in /usr/local/lib/python3.11/dist-packages (from streamlit) (24.2)\n",
            "Requirement already satisfied: pandas<3,>=1.4.0 in /usr/local/lib/python3.11/dist-packages (from streamlit) (2.2.2)\n",
            "Requirement already satisfied: pillow<12,>=7.1.0 in /usr/local/lib/python3.11/dist-packages (from streamlit) (11.2.1)\n",
            "Requirement already satisfied: protobuf<7,>=3.20 in /usr/local/lib/python3.11/dist-packages (from streamlit) (5.29.4)\n",
            "Requirement already satisfied: pyarrow>=7.0 in /usr/local/lib/python3.11/dist-packages (from streamlit) (18.1.0)\n",
            "Requirement already satisfied: requests<3,>=2.27 in /usr/local/lib/python3.11/dist-packages (from streamlit) (2.32.3)\n",
            "Requirement already satisfied: tenacity<10,>=8.1.0 in /usr/local/lib/python3.11/dist-packages (from streamlit) (9.1.2)\n",
            "Requirement already satisfied: toml<2,>=0.10.1 in /usr/local/lib/python3.11/dist-packages (from streamlit) (0.10.2)\n",
            "Requirement already satisfied: typing-extensions<5,>=4.4.0 in /usr/local/lib/python3.11/dist-packages (from streamlit) (4.13.2)\n",
            "Collecting watchdog<7,>=2.1.5 (from streamlit)\n",
            "  Downloading watchdog-6.0.0-py3-none-manylinux2014_x86_64.whl.metadata (44 kB)\n",
            "\u001b[2K     \u001b[90m━━━━━━━━━━━━━━━━━━━━━━━━━━━━━━━━━━━━━━━━\u001b[0m \u001b[32m44.3/44.3 kB\u001b[0m \u001b[31m3.3 MB/s\u001b[0m eta \u001b[36m0:00:00\u001b[0m\n",
            "\u001b[?25hRequirement already satisfied: gitpython!=3.1.19,<4,>=3.0.7 in /usr/local/lib/python3.11/dist-packages (from streamlit) (3.1.44)\n",
            "Collecting pydeck<1,>=0.8.0b4 (from streamlit)\n",
            "  Downloading pydeck-0.9.1-py2.py3-none-any.whl.metadata (4.1 kB)\n",
            "Requirement already satisfied: tornado<7,>=6.0.3 in /usr/local/lib/python3.11/dist-packages (from streamlit) (6.4.2)\n",
            "Requirement already satisfied: PyYAML>=5.1 in /usr/local/lib/python3.11/dist-packages (from pyngrok) (6.0.2)\n",
            "Requirement already satisfied: jinja2 in /usr/local/lib/python3.11/dist-packages (from altair<6,>=4.0->streamlit) (3.1.6)\n",
            "Requirement already satisfied: jsonschema>=3.0 in /usr/local/lib/python3.11/dist-packages (from altair<6,>=4.0->streamlit) (4.23.0)\n",
            "Requirement already satisfied: narwhals>=1.14.2 in /usr/local/lib/python3.11/dist-packages (from altair<6,>=4.0->streamlit) (1.36.0)\n",
            "Requirement already satisfied: gitdb<5,>=4.0.1 in /usr/local/lib/python3.11/dist-packages (from gitpython!=3.1.19,<4,>=3.0.7->streamlit) (4.0.12)\n",
            "Requirement already satisfied: python-dateutil>=2.8.2 in /usr/local/lib/python3.11/dist-packages (from pandas<3,>=1.4.0->streamlit) (2.9.0.post0)\n",
            "Requirement already satisfied: pytz>=2020.1 in /usr/local/lib/python3.11/dist-packages (from pandas<3,>=1.4.0->streamlit) (2025.2)\n",
            "Requirement already satisfied: tzdata>=2022.7 in /usr/local/lib/python3.11/dist-packages (from pandas<3,>=1.4.0->streamlit) (2025.2)\n",
            "Requirement already satisfied: charset-normalizer<4,>=2 in /usr/local/lib/python3.11/dist-packages (from requests<3,>=2.27->streamlit) (3.4.1)\n",
            "Requirement already satisfied: idna<4,>=2.5 in /usr/local/lib/python3.11/dist-packages (from requests<3,>=2.27->streamlit) (3.10)\n",
            "Requirement already satisfied: urllib3<3,>=1.21.1 in /usr/local/lib/python3.11/dist-packages (from requests<3,>=2.27->streamlit) (2.4.0)\n",
            "Requirement already satisfied: certifi>=2017.4.17 in /usr/local/lib/python3.11/dist-packages (from requests<3,>=2.27->streamlit) (2025.1.31)\n",
            "Requirement already satisfied: smmap<6,>=3.0.1 in /usr/local/lib/python3.11/dist-packages (from gitdb<5,>=4.0.1->gitpython!=3.1.19,<4,>=3.0.7->streamlit) (5.0.2)\n",
            "Requirement already satisfied: MarkupSafe>=2.0 in /usr/local/lib/python3.11/dist-packages (from jinja2->altair<6,>=4.0->streamlit) (3.0.2)\n",
            "Requirement already satisfied: attrs>=22.2.0 in /usr/local/lib/python3.11/dist-packages (from jsonschema>=3.0->altair<6,>=4.0->streamlit) (25.3.0)\n",
            "Requirement already satisfied: jsonschema-specifications>=2023.03.6 in /usr/local/lib/python3.11/dist-packages (from jsonschema>=3.0->altair<6,>=4.0->streamlit) (2025.4.1)\n",
            "Requirement already satisfied: referencing>=0.28.4 in /usr/local/lib/python3.11/dist-packages (from jsonschema>=3.0->altair<6,>=4.0->streamlit) (0.36.2)\n",
            "Requirement already satisfied: rpds-py>=0.7.1 in /usr/local/lib/python3.11/dist-packages (from jsonschema>=3.0->altair<6,>=4.0->streamlit) (0.24.0)\n",
            "Requirement already satisfied: six>=1.5 in /usr/local/lib/python3.11/dist-packages (from python-dateutil>=2.8.2->pandas<3,>=1.4.0->streamlit) (1.17.0)\n",
            "Downloading streamlit-1.45.0-py3-none-any.whl (9.9 MB)\n",
            "\u001b[2K   \u001b[90m━━━━━━━━━━━━━━━━━━━━━━━━━━━━━━━━━━━━━━━━\u001b[0m \u001b[32m9.9/9.9 MB\u001b[0m \u001b[31m101.7 MB/s\u001b[0m eta \u001b[36m0:00:00\u001b[0m\n",
            "\u001b[?25hDownloading pyngrok-7.2.5-py3-none-any.whl (23 kB)\n",
            "Downloading pydeck-0.9.1-py2.py3-none-any.whl (6.9 MB)\n",
            "\u001b[2K   \u001b[90m━━━━━━━━━━━━━━━━━━━━━━━━━━━━━━━━━━━━━━━━\u001b[0m \u001b[32m6.9/6.9 MB\u001b[0m \u001b[31m126.1 MB/s\u001b[0m eta \u001b[36m0:00:00\u001b[0m\n",
            "\u001b[?25hDownloading watchdog-6.0.0-py3-none-manylinux2014_x86_64.whl (79 kB)\n",
            "\u001b[2K   \u001b[90m━━━━━━━━━━━━━━━━━━━━━━━━━━━━━━━━━━━━━━━━\u001b[0m \u001b[32m79.1/79.1 kB\u001b[0m \u001b[31m8.0 MB/s\u001b[0m eta \u001b[36m0:00:00\u001b[0m\n",
            "\u001b[?25hInstalling collected packages: watchdog, pyngrok, pydeck, streamlit\n",
            "Successfully installed pydeck-0.9.1 pyngrok-7.2.5 streamlit-1.45.0 watchdog-6.0.0\n"
          ]
        }
      ]
    },
    {
      "cell_type": "code",
      "source": [
        "import warnings\n",
        "warnings.filterwarnings(\"ignore\", category=UserWarning, module=\"streamlit\")\n"
      ],
      "metadata": {
        "id": "ejZAwWktl_Cl"
      },
      "execution_count": null,
      "outputs": []
    },
    {
      "cell_type": "code",
      "source": [
        "%%writefile app.py\n",
        "import os\n",
        "import tensorflow as tf\n",
        "import time\n",
        "import pandas as pd\n",
        "import seaborn as sns\n",
        "import matplotlib.pyplot as plt\n",
        "import streamlit as st\n",
        "\n",
        "# Function to determine the runtime type and measure its efficiency\n",
        "def get_colab_runtime():\n",
        "    if 'COLAB_TPU_ADDR' in os.environ:\n",
        "        return \"TPU\"\n",
        "    elif tf.config.list_physical_devices('GPU'):\n",
        "        return \"GPU\"\n",
        "    else:\n",
        "        return \"CPU\"\n",
        "\n",
        "# Measure the time before running the function\n",
        "start_time = time.perf_counter()\n",
        "\n",
        "runtime_type = get_colab_runtime()\n",
        "\n",
        "# Measure the time after running the function\n",
        "end_time = time.perf_counter()\n",
        "\n",
        "# Calculate the elapsed time\n",
        "elapsed_time = end_time - start_time\n",
        "\n",
        "# Streamlit interface and BPM-based code\n",
        "st.title(\"🎶 Tempo-Based Song Classifier & Visualizer\")\n",
        "\n",
        "# Load the dataset\n",
        "file_path = '/content/drive/MyDrive/bpm flo/merged_music_dataset(in).csv'\n",
        "df = pd.read_csv(file_path)\n",
        "\n",
        "# Classify by tempo\n",
        "df['tempo_class'] = df['beats.per.minute'].apply(lambda bpm: 'fast' if bpm >= 100 else 'slow')\n",
        "\n",
        "# Add feeling column\n",
        "def classify_feeling(row):\n",
        "    valance = row['valance']\n",
        "    energy = row['energy']\n",
        "    tempo = row['tempo_class']\n",
        "    if tempo == 'fast':\n",
        "        if valance >= 60 and energy >= 60:\n",
        "            return 'fun, energetic'\n",
        "        elif valance < 60 and energy >= 60:\n",
        "            return 'intense, edgy'\n",
        "        else:\n",
        "            return 'reflective, moody'\n",
        "    else:\n",
        "        if valance < 40 and energy < 40:\n",
        "            return 'sad, mellow'\n",
        "        elif valance >= 60 and 40 <= energy < 60:\n",
        "            return 'romantic, chill'\n",
        "        else:\n",
        "            return 'reflective, moody'\n",
        "\n",
        "df['feeling'] = df.apply(classify_feeling, axis=1)\n",
        "\n",
        "# Streamlit UI\n",
        "st.markdown(f\"🔍 Current Colab Runtime Type: {runtime_type}\")\n",
        "st.markdown(f\"⏱️ Time taken to determine runtime: {elapsed_time:.6f} seconds\")\n",
        "\n",
        "# Add Tempo Class filter\n",
        "tempo_filter = st.selectbox(\"Select Tempo Class\", [\"All\", \"Fast\", \"Slow\"])\n",
        "\n",
        "# Add Mood filter\n",
        "mood_filter = st.selectbox(\"Select Mood\", [\"All\", \"fun, energetic\", \"intense, edgy\", \"reflective, moody\", \"sad, mellow\", \"romantic, chill\"])\n",
        "\n",
        "# Add search filter\n",
        "search = st.text_input(\"Enter keyword\").lower()\n",
        "\n",
        "# Apply the filters based on user selection\n",
        "filtered_df = df\n",
        "\n",
        "# Tempo filter\n",
        "if tempo_filter != \"All\":\n",
        "    filtered_df = filtered_df[filtered_df['tempo_class'] == tempo_filter.lower()]\n",
        "\n",
        "# Mood filter\n",
        "if mood_filter != \"All\":\n",
        "    filtered_df = filtered_df[filtered_df['feeling'] == mood_filter]\n",
        "\n",
        "# Keyword search filter\n",
        "if search:\n",
        "    filtered_df = filtered_df[filtered_df['title'].str.lower().str.contains(search) | filtered_df['artist'].str.lower().str.contains(search)]\n",
        "\n",
        "# Display the filtered data\n",
        "if not filtered_df.empty:\n",
        "    st.success(f\"Found {len(filtered_df)} result(s)\")\n",
        "    st.dataframe(filtered_df[['title', 'artist', 'beats.per.minute', 'tempo_class', 'feeling']])\n",
        "else:\n",
        "    st.warning(\"No results found based on your criteria.\")\n",
        "\n",
        "# Show overall stats only after the search or selectbox is applied\n",
        "st.markdown(\"### 🔍 Tempo Distribution\")\n",
        "tempo_counts = filtered_df['tempo_class'].value_counts()\n",
        "st.bar_chart(tempo_counts)\n",
        "\n",
        "st.markdown(\"### 🧠 Feeling Distribution\")\n",
        "feeling_counts = filtered_df['feeling'].value_counts()\n",
        "st.bar_chart(feeling_counts)\n",
        "\n",
        "# Optional visual analysis\n",
        "st.markdown(\"### 📊 Feature Comparison (Energy, Danceability, Valance)\")\n",
        "\n",
        "fig, axes = plt.subplots(1, 3, figsize=(16, 5))\n",
        "sns.boxplot(data=filtered_df, x='tempo_class', y='energy', ax=axes[0]).set(title='Energy by Tempo')\n",
        "sns.boxplot(data=filtered_df, x='tempo_class', y='danceability', ax=axes[1]).set(title='Danceability by Tempo')\n",
        "sns.boxplot(data=filtered_df, x='tempo_class', y='valance', ax=axes[2]).set(title='Valance by Tempo')\n",
        "st.pyplot(fig)\n",
        "\n",
        "# Footer\n",
        "st.caption(\"Project Objective: Classify songs by tempo, analyze characteristics, and explore emotional impact.\")\n"
      ],
      "metadata": {
        "colab": {
          "base_uri": "https://localhost:8080/"
        },
        "id": "_NGg-JTIcPYM",
        "outputId": "e6b7a1fd-2406-4fc5-d4ec-a0362ee51649"
      },
      "execution_count": null,
      "outputs": [
        {
          "output_type": "stream",
          "name": "stdout",
          "text": [
            "Writing app.py\n"
          ]
        }
      ]
    },
    {
      "cell_type": "code",
      "source": [
        "!ngrok config add-authtoken 2wQlEIuIdfduPUTTioz0dYYrT1d_3eBwKe7NKT8Spo88bYuLh\n"
      ],
      "metadata": {
        "colab": {
          "base_uri": "https://localhost:8080/"
        },
        "id": "J1LIrAvechnh",
        "outputId": "fa06d354-8c01-4662-d5a3-6119ecf7102a"
      },
      "execution_count": null,
      "outputs": [
        {
          "output_type": "stream",
          "name": "stdout",
          "text": [
            "Authtoken saved to configuration file: /root/.config/ngrok/ngrok.yml\n"
          ]
        }
      ]
    },
    {
      "cell_type": "code",
      "source": [
        "from pyngrok import ngrok\n",
        "\n",
        "ngrok.kill()  # Kill any previous tunnels\n",
        "\n",
        "# Start a new HTTP tunnel to port 8501\n",
        "public_url = ngrok.connect(addr=\"8501\", proto=\"http\")\n",
        "print(\"Streamlit app URL:\", public_url)\n",
        "\n",
        "# Run Streamlit\n",
        "!streamlit run app.py &> /dev/null &\n"
      ],
      "metadata": {
        "colab": {
          "base_uri": "https://localhost:8080/"
        },
        "collapsed": true,
        "id": "oiEY5_NkdYmP",
        "outputId": "b994a993-58cd-4a4e-d299-a151e5034837"
      },
      "execution_count": null,
      "outputs": [
        {
          "output_type": "stream",
          "name": "stdout",
          "text": [
            "Streamlit app URL: NgrokTunnel: \"https://85f8-34-147-37-128.ngrok-free.app\" -> \"http://localhost:8501\"\n"
          ]
        }
      ]
    },
    {
      "cell_type": "code",
      "source": [],
      "metadata": {
        "colab": {
          "base_uri": "https://localhost:8080/"
        },
        "id": "tLdArxXQhF32",
        "outputId": "14527dfe-cd33-49f8-8571-67e9d4084f5d"
      },
      "execution_count": null,
      "outputs": [
        {
          "output_type": "stream",
          "name": "stdout",
          "text": [
            "🔍 Current Colab Runtime Type: CPU\n",
            "⏱️ Time taken to determine runtime: 0.001338 seconds\n"
          ]
        }
      ]
    },
    {
      "cell_type": "markdown",
      "source": [],
      "metadata": {
        "id": "kcdZVk1fgyhX"
      }
    }
  ]
}